{
 "cells": [
  {
   "cell_type": "code",
   "execution_count": 44,
   "metadata": {},
   "outputs": [
    {
     "data": {
      "text/plain": [
       "3"
      ]
     },
     "execution_count": 44,
     "metadata": {},
     "output_type": "execute_result"
    }
   ],
   "source": [
    "# Dependencies  \n",
    "import numpy as np\n",
    "import pandas as pd\n",
    "\n",
    "file1 = \"raw_data/purchase_data.csv\"\n",
    "\n",
    "purchase_data = pd.read_json(file1, orient=\"records\")"
   ]
  },
  {
   "cell_type": "code",
   "execution_count": 50,
   "metadata": {},
   "outputs": [
    {
     "data": {
      "text/plain": [
       "True"
      ]
     },
     "execution_count": 50,
     "metadata": {},
     "output_type": "execute_result"
    }
   ],
   "source": [
    "for x in range(np.size(a,0)):\n",
    "    if np.unique(a[x]).size == 1:\n",
    "        win = true\n",
    "for x in range(np.size(np.rot90(a),0)):\n",
    "    if np.unique(a[x]).size == 1:\n",
    "        win = true\n",
    "        \n",
    "if np.unique(a.diagonal()).size == 1:\n",
    "    win = True\n",
    "if np.unique(np.rot90(a).diagonal()).size == 1:\n",
    "    win = True\n",
    "win"
   ]
  },
  {
   "cell_type": "code",
   "execution_count": null,
   "metadata": {},
   "outputs": [],
   "source": []
  }
 ],
 "metadata": {
  "kernelspec": {
   "display_name": "Python 3",
   "language": "python",
   "name": "python3"
  },
  "language_info": {
   "codemirror_mode": {
    "name": "ipython",
    "version": 3
   },
   "file_extension": ".py",
   "mimetype": "text/x-python",
   "name": "python",
   "nbconvert_exporter": "python",
   "pygments_lexer": "ipython3",
   "version": "3.6.5"
  }
 },
 "nbformat": 4,
 "nbformat_minor": 2
}
